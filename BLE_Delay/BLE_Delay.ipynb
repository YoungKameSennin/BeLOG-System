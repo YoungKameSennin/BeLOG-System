{
 "cells": [
  {
   "cell_type": "code",
   "execution_count": 61,
   "metadata": {},
   "outputs": [
    {
     "name": "stdout",
     "output_type": "stream",
     "text": [
      "Datapoints Count:\n",
      "data1_100ms: 113\n",
      "data2_100ms: 172\n",
      "data3_100ms: 163\n",
      "data1_500ms: 132\n",
      "data2_500ms: 132\n",
      "data3_500ms: 161\n",
      "\n",
      "Sample data: ['1691125306133', '1691125306236', '1691125306341', '1691125306461', '1691125306566']\n"
     ]
    }
   ],
   "source": [
    "data1_100ms = open(\"data/data1_100ms.txt\")\n",
    "data2_100ms = open(\"data/data2_100ms.txt\")\n",
    "data3_100ms = open(\"data/data3_100ms.txt\")\n",
    "data1_500ms = open(\"data/data1_500ms.txt\")\n",
    "data2_500ms = open(\"data/data2_500ms.txt\")\n",
    "data3_500ms = open(\"data/data3_500ms.txt\")\n",
    "\n",
    "times1, times2, times3, times4, times5, times6 = ([] for i in range(6))\n",
    "\n",
    "for i in data1_100ms:\n",
    "    times1.append((i.split(\" \"))[0])\n",
    "for i in data2_100ms:\n",
    "    times2.append((i.split(\" \"))[0])\n",
    "for i in data3_100ms:\n",
    "    times3.append((i.split(\" \"))[0])\n",
    "for i in data1_500ms:\n",
    "    times4.append((i.split(\" \"))[0])\n",
    "for i in data2_500ms:\n",
    "    times5.append((i.split(\" \"))[0])\n",
    "for i in data3_500ms:\n",
    "    times6.append((i.split(\" \"))[0])\n",
    "\n",
    "\n",
    "print(\"Datapoints Count:\")\n",
    "print(\"data1_100ms:\", len(times1))\n",
    "print(\"data2_100ms:\", len(times2))\n",
    "print(\"data3_100ms:\", len(times3))\n",
    "print(\"data1_500ms:\", len(times4))\n",
    "print(\"data2_500ms:\", len(times5))\n",
    "print(\"data3_500ms:\", len(times6))\n",
    "print(\"\\nSample data:\", times1[:5])\n",
    "\n",
    "\n"
   ]
  },
  {
   "cell_type": "code",
   "execution_count": 62,
   "metadata": {},
   "outputs": [
    {
     "name": "stdout",
     "output_type": "stream",
     "text": [
      "[103, 105, 120, 105, 105]\n"
     ]
    }
   ],
   "source": [
    "intervals1, intervals2, intervals3, intervals4, intervals5, intervals6 = ([] for i in range(6))\n",
    "for i, x in enumerate(times1):\n",
    "    if(i != 0):\n",
    "        temp = int(x) - int(times1[i - 1])\n",
    "        intervals1.append(temp)\n",
    "for i, x in enumerate(times2):\n",
    "    if(i != 0):\n",
    "        temp = int(x) - int(times2[i - 1])\n",
    "        intervals2.append(temp)\n",
    "for i, x in enumerate(times3):\n",
    "    if(i != 0):\n",
    "        temp = int(x) - int(times3[i - 1])\n",
    "        intervals3.append(temp)\n",
    "for i, x in enumerate(times4):\n",
    "    if(i != 0):\n",
    "        temp = int(x) - int(times4[i - 1])\n",
    "        intervals4.append(temp)\n",
    "for i, x in enumerate(times5):\n",
    "    if(i != 0):\n",
    "        temp = int(x) - int(times5[i - 1])\n",
    "        intervals5.append(temp)\n",
    "for i, x in enumerate(times6):\n",
    "    if(i != 0):\n",
    "        temp = int(x) - int(times6[i - 1])\n",
    "        intervals6.append(temp)\n",
    "\n",
    "\n",
    "print(intervals1[:5])"
   ]
  },
  {
   "cell_type": "code",
   "execution_count": 64,
   "metadata": {},
   "outputs": [
    {
     "name": "stdout",
     "output_type": "stream",
     "text": [
      "Standard Deviations:\n",
      "data1_100ms: 21.2057530105974\n",
      "data2_100ms: 21.687737630658752\n",
      "data3_100ms: 20.236455907299103\n",
      "data1_500ms: 32.427569590155365\n",
      "data2_500ms: 33.50425955163533\n",
      "data3_500ms: 32.33188497696233\n"
     ]
    }
   ],
   "source": [
    "import statistics\n",
    "\n",
    "print(\"Standard Deviations:\")\n",
    "print(\"data1_100ms:\", statistics.stdev(intervals1))\n",
    "print(\"data2_100ms:\", statistics.stdev(intervals2))\n",
    "print(\"data3_100ms:\", statistics.stdev(intervals3))\n",
    "print(\"data1_500ms:\", statistics.stdev(intervals4))\n",
    "print(\"data2_500ms:\", statistics.stdev(intervals5))\n",
    "print(\"data3_500ms:\", statistics.stdev(intervals6))"
   ]
  }
 ],
 "metadata": {
  "kernelspec": {
   "display_name": "base",
   "language": "python",
   "name": "python3"
  },
  "language_info": {
   "codemirror_mode": {
    "name": "ipython",
    "version": 3
   },
   "file_extension": ".py",
   "mimetype": "text/x-python",
   "name": "python",
   "nbconvert_exporter": "python",
   "pygments_lexer": "ipython3",
   "version": "3.10.9"
  },
  "orig_nbformat": 4
 },
 "nbformat": 4,
 "nbformat_minor": 2
}
